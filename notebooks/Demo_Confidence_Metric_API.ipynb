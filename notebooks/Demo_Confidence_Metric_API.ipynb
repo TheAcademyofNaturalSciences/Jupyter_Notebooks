{
 "cells": [
  {
   "cell_type": "markdown",
   "id": "c08865cd",
   "metadata": {},
   "source": [
    "### Confidence Metric and Best Management Practice (BMP) Application Programming Interface (API)\n",
    "###### Academy of Natural Sciences of Drexel University,  Drexel University College of Computing and Informatics\n",
    "\n",
    "The Drexel University College of Computing and Informatics (CCI) and the Academy of Natural Sciences (ANS) of Drexel University have developed Application Programming Interfaces (APIs) which incorporate novel algorithms to apply efficient solutions to complex environmental queries. The APIs are built in Python using a GeoDjango Web framework, Nginx, Docker, PostgreSQL, and Swagger.\n",
    "\n",
    "The Best Management Practice (BMP) API returnes BMP specific nutrient and sediment reduction estimates for a user-supplied area of interest. The API supports structural BMPs within the Chesapeake Bay basins in alignment with CAST isolation scenarios and modeling routines. The API relies on the Chesapeake Bay Model scenarios within the Chesapeake Assessment Scenario Tool (CAST), at the Land River Segment Scale. The API calculates the watershed boundary and land cover distribution for the BMP area of interest, then re-allocates the loads using BMP specific modeling approaches and efficiencies. BMP efficiencies used vary spatially depending on the watershed."
   ]
  },
  {
   "cell_type": "code",
   "execution_count": 1,
   "id": "7b9cb1d7",
   "metadata": {},
   "outputs": [],
   "source": [
    "from ipyleaflet import Map, basemaps, Polygon, DrawControl, WidgetControl, GeoJSON, MeasureControl, basemap_to_tiles, SplitMapControl\n",
    "import ipywidgets as widgets\n",
    "from ipywidgets import IntSlider, ColorPicker, jslink, Dropdown, interact, FloatSlider\n",
    "import requests\n",
    "import geojson\n",
    "import json\n",
    "import shapely\n",
    "from shapely.geometry import mapping, MultiPolygon, Polygon, LineString, Point\n",
    "import matplotlib.pyplot as plt\n",
    "import collections\n",
    "from math import sqrt\n",
    "import numpy as np\n",
    "from shapely.ops import unary_union"
   ]
  },
  {
   "cell_type": "code",
   "execution_count": 2,
   "id": "716557b1",
   "metadata": {},
   "outputs": [],
   "source": [
    "# Copy in the lookup table from the BMP API\n",
    "bmp_lookups = {\"\": [],\n",
    "                      \"Polygon Drainage\": [\n",
    "                      #\"\",\n",
    "                      \"Forest Buffer\",\n",
    "                      \"Forest Buffer - Narrow\",\n",
    "                      \"Grass Buffers\"\n",
    "                      ],\n",
    "                    \"Exclusion Buffer\": [\n",
    "                      #\"\",\n",
    "                      \"Forest Buffer-Streamside with Exclusion Fencing\"\n",
    "                      ]\n",
    "                  }\n",
    "\n",
    "messages_arch = {\"\": '',\n",
    "                 \"Polygon Drainage\": 'Draw the polygon footprint for your BMP.',\n",
    "                 \"Exclusion Buffer\": 'Draw the polygon footprint for your BMP and enter the length of fencing.'\n",
    "                }\n",
    "\n",
    "# Sort this dictionary for better viewing\n",
    "bmp_lookups_sort = {}\n",
    "for arch in sorted(bmp_lookups):\n",
    "    bmp_lookups_sort[arch] = bmp_lookups[arch]\n",
    "    temp = []\n",
    "    for bmp in sorted(bmp_lookups[arch]):\n",
    "        temp.append(bmp)\n",
    "        #print(\"%s: %s\" % (key, bmp_lookups[key]))\n",
    "    bmp_lookups_sort[arch] = temp\n",
    "\n",
    "bmp_lookups = dict(bmp_lookups_sort)\n",
    "del(bmp_lookups_sort)\n",
    "\n",
    "# bmp_lookups.keys()\n"
   ]
  },
  {
   "cell_type": "code",
   "execution_count": 3,
   "id": "71c92fb4",
   "metadata": {},
   "outputs": [],
   "source": [
    "# Set up all of the different fields to populate\n",
    "\n",
    "acres_treated = 0.0\n",
    "stream_feet_treated = 0.0\n",
    "\n",
    "acres_treated_text = widgets.BoundedFloatText(\n",
    "    value=acres_treated,\n",
    "    min=0.00,\n",
    "    max=10000.0,\n",
    "    placeholder='Enter Acres Treated:',\n",
    "    description='Acres',\n",
    "    disabled=False\n",
    ")\n",
    "\n",
    "stream_feet_treated_text = widgets.BoundedFloatText(\n",
    "    value=stream_feet_treated,\n",
    "    min=0.00,\n",
    "    max=10000.0,\n",
    "    placeholder='Enter Stream Feet Treated:',\n",
    "    description='',\n",
    "    disabled=False\n",
    ")\n"
   ]
  },
  {
   "cell_type": "code",
   "execution_count": 4,
   "id": "01830563",
   "metadata": {
    "scrolled": true
   },
   "outputs": [
    {
     "data": {
      "application/vnd.jupyter.widget-view+json": {
       "model_id": "bae9e0fe991e46bb83b8a6e786925e64",
       "version_major": 2,
       "version_minor": 0
      },
      "text/plain": [
       "interactive(children=(Dropdown(description='Archetype', options=('', 'Exclusion Buffer', 'Polygon Drainage'), …"
      ]
     },
     "metadata": {},
     "output_type": "display_data"
    },
    {
     "data": {
      "application/vnd.jupyter.widget-view+json": {
       "model_id": "c8172d0aa89a48758950d848b91e53e5",
       "version_major": 2,
       "version_minor": 0
      },
      "text/plain": [
       "interactive(children=(Dropdown(description='BMP', options=(), value=None), Output()), _dom_classes=('widget-in…"
      ]
     },
     "metadata": {},
     "output_type": "display_data"
    },
    {
     "data": {
      "application/vnd.jupyter.widget-view+json": {
       "model_id": "f51d470973124ec580726bc6e4fdd646",
       "version_major": 2,
       "version_minor": 0
      },
      "text/plain": [
       "Map(center=[39.990905, -76.211389], controls=(ZoomControl(options=['position', 'zoom_in_text', 'zoom_in_title'…"
      ]
     },
     "metadata": {},
     "output_type": "display_data"
    }
   ],
   "source": [
    "# Put in a DropDown Widget to Select a BMP and enter the necessary information\n",
    "bmps_selected = []\n",
    "arches_selected = []\n",
    "\n",
    "\n",
    "def select_bmp(Archetype):\n",
    "    arches_selected.append(Archetype)\n",
    "    bmpW.options = bmp_lookups[Archetype]\n",
    "\n",
    "def print_bmp(BMP):\n",
    "    if BMP == None:\n",
    "        pass\n",
    "    else:\n",
    "        print('Selected BMP: {}\\n'.format(BMP))\n",
    "        print(messages_arch[str(scW.value)])\n",
    "        bmps_selected.append(BMP)\n",
    "        if str(scW.value) == 'Exclusion Buffer':\n",
    "            display(stream_feet_treated_text)\n",
    "        elif str(scW.value) == 'Polygon Drainage':\n",
    "            pass            \n",
    "        \n",
    "scW = widgets.Dropdown(options=bmp_lookups.keys())\n",
    "init = scW.value\n",
    "bmpW = widgets.Dropdown(options=bmp_lookups[init])\n",
    "disp_bmp = widgets.interactive(print_bmp, BMP=bmpW)\n",
    "disp_arch = widgets.interactive(select_bmp, Archetype=scW)\n",
    "display(disp_arch)\n",
    "display(disp_bmp)\n",
    "\n",
    "\n",
    "# Create the map\n",
    "# Map centred on Lancaster\n",
    "displaymap1 = Map(center = (39.990905, -76.211389), zoom = 12, min_zoom = 1, max_zoom = 20,  scroll_wheel_zoom = True,\n",
    "                 basemap = basemaps.Esri.WorldStreetMap)\n",
    "\n",
    "# Enable user to draw polygons and lines\n",
    "draw_control = DrawControl()\n",
    "draw_control.polyline =  {\n",
    "    \"shapeOptions\": {\n",
    "        \"color\": \"#6bc2e5\",\n",
    "        \"weight\": 4,\n",
    "        \"opacity\": 1.0\n",
    "    }\n",
    "}\n",
    "draw_control.polygon = {\n",
    "    \"shapeOptions\": {\n",
    "        \"fillColor\": \"#6be5c3\",\n",
    "        \"color\": \"#6be5c3\",\n",
    "        \"fillOpacity\": 0.3\n",
    "    },\n",
    "    \"drawError\": {\n",
    "        \"color\": \"#dd253b\",\n",
    "        \"message\": \"Oups!\"\n",
    "    },\n",
    "    \"allowIntersection\": True,\n",
    "}\n",
    "\n",
    "# Save the drawn geometry to a geojson\n",
    "feature_collection = {\n",
    "    'type': 'FeatureCollection',\n",
    "    'features': []\n",
    "}\n",
    "\n",
    "def handle_draw(self, action, geo_json):\n",
    "    # Save the GeoJSON when it's drawn on the map  \n",
    "    feature_collection['features'].append(geo_json)\n",
    "\n",
    "# Add in a zoom slider bar for fun\n",
    "zoom_slider1 = IntSlider(description='Zoom level:', min=0, max=20, value=12)\n",
    "jslink((zoom_slider1, 'value'), (displaymap1, 'zoom'))\n",
    "widget_control1 = WidgetControl(widget=zoom_slider1, position='topright')\n",
    "\n",
    "# Add in ability to do measurements\n",
    "measure = MeasureControl(\n",
    "    position='bottomleft',\n",
    "    active_color = 'red',\n",
    "    primary_length_unit = 'feet'\n",
    ")\n",
    "\n",
    "displaymap1.add_control(measure)\n",
    "\n",
    "measure.completed_color = 'red'\n",
    "\n",
    "measure.add_length_unit('miles', 0.000621371, 1)\n",
    "measure.secondary_length_unit = 'miles'\n",
    "\n",
    "measure.add_area_unit('sqkm', 0.0000001, 1)\n",
    "measure.secondary_area_unit = 'sqkm'\n",
    "\n",
    "# Add everything into the map\n",
    "draw_control.on_draw(handle_draw)\n",
    "displaymap1.add_control(draw_control)\n",
    "\n",
    "left_layer = basemap_to_tiles(basemaps.Esri.WorldImagery)\n",
    "right_layer = basemap_to_tiles(basemaps.Esri.WorldStreetMap)\n",
    "\n",
    "#split_control = SplitMapControl(left_layer=left_layer, right_layer=right_layer)\n",
    "#displaymap1.add_control(split_control)\n",
    "\n",
    "# Show the map\n",
    "displaymap1"
   ]
  },
  {
   "cell_type": "code",
   "execution_count": 37,
   "id": "a23b3891",
   "metadata": {
    "scrolled": false
   },
   "outputs": [
    {
     "name": "stdout",
     "output_type": "stream",
     "text": [
      "Polygon Drainage: Forest Buffer\n",
      "{'type': 'Polygon', 'coordinates': [[[-76.212244, 39.990169], [-76.210825, 39.990425], [-76.210825, 39.990078], [-76.212089, 39.989922], [-76.212244, 39.990169]]]}\n"
     ]
    }
   ],
   "source": [
    "# Show the BMP\n",
    "bmp = bmps_selected[len(bmps_selected)-1]\n",
    "archetype = arches_selected[len(arches_selected)-1]\n",
    "print('{}: {}'.format(archetype, bmp))\n",
    "\n",
    "# Show the last drawn shape\n",
    "last_geom_idx = len(feature_collection['features']) - 1\n",
    "last_geom = feature_collection['features'][last_geom_idx]['geometry']\n",
    "print(last_geom)\n",
    "\n",
    "# Update the paramters with the user supplied input\n",
    "acres_treated = acres_treated_text.value\n",
    "stream_feet_treated = stream_feet_treated_text.value\n"
   ]
  },
  {
   "cell_type": "markdown",
   "id": "7e90735b",
   "metadata": {},
   "source": [
    "#### Call BMP API"
   ]
  },
  {
   "cell_type": "code",
   "execution_count": 60,
   "id": "253785f8",
   "metadata": {},
   "outputs": [
    {
     "name": "stdout",
     "output_type": "stream",
     "text": [
      "{\n",
      "\tbmp_geometry: {'type': 'Polygon', 'coordinates': [[[-76.212244, 39.990169], [-76.210825, 39.990425], [-76.210825, 39.990078], [-76.212089, 39.989922], [-76.212244, 39.990169]]]}\n",
      "\tbmp_type: forestbuffers\n",
      "\tacres_treated: 0.0\n",
      "\tstream_feet_treated: 0.0\n",
      "\tmodel: confidence_metric\n",
      "}\n"
     ]
    }
   ],
   "source": [
    "# Call the Watersheds API with the drawn shape\n",
    "_x = dict(eval(str(last_geom)))\n",
    "# _payload = {\"bmp_geometry\": _x,\n",
    "#             \"bmp_type\": 'forestbuffers',\n",
    "#             \"bmp_group\": archetype,\n",
    "#             \"acres_treated\": acres_treated,\n",
    "#             \"stream_feet_treated\": stream_feet_treated,\n",
    "#             \"model\": \"confidence_metric\"\n",
    "#            }\n",
    "_payload = {\"bmp_geometry\": _x,\n",
    "            \"bmp_type\": 'forestbuffers',\n",
    "            \"acres_treated\": acres_treated,\n",
    "            \"stream_feet_treated\": stream_feet_treated,\n",
    "            \"model\": \"confidence_metric\"\n",
    "           }\n",
    "_payload = json.dumps(_payload)\n",
    "_url = 'https://watersheds-staging.cci.drexel.edu/api/bmp/'\n",
    "_headers = {'Content-Type': 'application/json'}\n",
    "_r_bmp = requests.post(_url, data = _payload , headers= _headers, allow_redirects=True, verify=True)\n",
    "\n",
    "print('{')\n",
    "for k, v in eval(_payload).items():\n",
    "    print('\\t{}: {}'.format(k, v))\n",
    "print('}')\n",
    "# print(_r_bmp.text)"
   ]
  },
  {
   "cell_type": "code",
   "execution_count": 51,
   "metadata": {},
   "outputs": [
    {
     "name": "stdout",
     "output_type": "stream",
     "text": [
      "'str' object has no attribute 'get'\n"
     ]
    }
   ],
   "source": [
    "print(_r_bmp.text)"
   ]
  },
  {
   "cell_type": "code",
   "execution_count": 45,
   "id": "d153a4ef",
   "metadata": {},
   "outputs": [
    {
     "ename": "KeyError",
     "evalue": "'reduction_lbyr'",
     "output_type": "error",
     "traceback": [
      "\u001b[1;31m---------------------------------------------------------------------------\u001b[0m",
      "\u001b[1;31mKeyError\u001b[0m                                  Traceback (most recent call last)",
      "\u001b[1;32m<ipython-input-45-0f1c20dab576>\u001b[0m in \u001b[0;36m<module>\u001b[1;34m\u001b[0m\n\u001b[0;32m     15\u001b[0m \u001b[0mlulcs\u001b[0m \u001b[1;33m=\u001b[0m \u001b[0mreturn_dict\u001b[0m\u001b[1;33m[\u001b[0m\u001b[1;34m'land_cover_acres'\u001b[0m\u001b[1;33m]\u001b[0m\u001b[1;33m\u001b[0m\u001b[1;33m\u001b[0m\u001b[0m\n\u001b[0;32m     16\u001b[0m \u001b[0mlulcs_bmp\u001b[0m \u001b[1;33m=\u001b[0m \u001b[0mreturn_dict\u001b[0m\u001b[1;33m[\u001b[0m\u001b[1;34m'land_cover_acres'\u001b[0m\u001b[1;33m]\u001b[0m\u001b[1;33m\u001b[0m\u001b[1;33m\u001b[0m\u001b[0m\n\u001b[1;32m---> 17\u001b[1;33m \u001b[0mreductions\u001b[0m \u001b[1;33m=\u001b[0m \u001b[0mreturn_dict\u001b[0m\u001b[1;33m[\u001b[0m\u001b[1;34m'reduction_lbyr'\u001b[0m\u001b[1;33m]\u001b[0m\u001b[1;33m\u001b[0m\u001b[1;33m\u001b[0m\u001b[0m\n\u001b[0m\u001b[0;32m     18\u001b[0m \u001b[0mp_impervious\u001b[0m \u001b[1;33m=\u001b[0m \u001b[0mreturn_dict\u001b[0m\u001b[1;33m[\u001b[0m\u001b[1;34m'percent_impervious'\u001b[0m\u001b[1;33m]\u001b[0m\u001b[1;33m\u001b[0m\u001b[1;33m\u001b[0m\u001b[0m\n\u001b[0;32m     19\u001b[0m \u001b[0mlu_total\u001b[0m \u001b[1;33m=\u001b[0m \u001b[1;36m0\u001b[0m\u001b[1;33m\u001b[0m\u001b[1;33m\u001b[0m\u001b[0m\n",
      "\u001b[1;31mKeyError\u001b[0m: 'reduction_lbyr'"
     ]
    }
   ],
   "source": [
    "# Cache what we want to use later in the visualization\n",
    "\n",
    "# Save the watershed as a geojson and a shapely geometry object\n",
    "return_dict = eval(str(json.loads(_r_bmp.text)))\n",
    "\n",
    "watershed_shapely = shapely.geometry.shape(return_dict['watershed_geometry'])\n",
    "if watershed_shapely.type == 'Polygon':\n",
    "    watershed_shapely = MultiPolygon([watershed_shapely])\n",
    "watershed_geojson = geojson.loads(geojson.dumps(mapping(watershed_shapely)))\n",
    "\n",
    "#watershed_shapely = unary_union(watershed_shapely)\n",
    "#watershed_geojson = geojson.loads(geojson.dumps(mapping(watershed_shapely)))\n",
    "\n",
    "# Cache land cover and final recutions\n",
    "lulcs = return_dict['land_cover_acres']\n",
    "lulcs_bmp = return_dict['land_cover_acres']\n",
    "reductions = return_dict['reduction_lbyr']\n",
    "p_impervious = return_dict['percent_impervious']\n",
    "lu_total = 0\n",
    "lu_total_bmp = 0\n",
    "for lulc, acre in lulcs_bmp.items():\n",
    "    lu_total_bmp += acre\n",
    "#print(lu_total_bmp)\n",
    "#print('Input area ammended land cover acres: {}\\n'.format(lulcs_bmp))\n",
    "\n",
    "# In case we get a zero area, double check by re-sending the watershed boundary\n",
    "# Reset area for providing warnings with urban stormwater management BMPs\n",
    "try:\n",
    "    if lu_total_bmp >= 0:\n",
    "        lulcs = {}\n",
    "        lu_total = 0\n",
    "        n = 1\n",
    "        # Call the Fast Zonal API with the Watershed Boundary\n",
    "        for geom in watershed_shapely:\n",
    "            print(n, end='')\n",
    "            m = MultiPolygon([geom])\n",
    "            new_watershed_geojson = geojson.loads(geojson.dumps(mapping(m)))\n",
    "            _x = json.dumps(new_watershed_geojson)\n",
    "            _url = 'https://watersheds.cci.drexel.edu/api/fzs/'\n",
    "            _headers = {}\n",
    "            _r = requests.post(_url, data = _x , headers= _headers, allow_redirects=True, verify=True)\n",
    "            lulcs_loop = eval(_r.text)\n",
    "            for lulc, sqm in lulcs_loop.items():\n",
    "                if lulc in lulcs.keys():\n",
    "                    _v = sqm / 4046.86\n",
    "                    lulcs[lulc] += _v\n",
    "                else:\n",
    "                    lulcs[lulc] = sqm / 4046.86\n",
    "            n += 1\n",
    "        for lulc, acre in lulcs.items():\n",
    "            lu_total += acre\n",
    "        \n",
    "    #print('\\nRaw land cover acres: {}'.format(lulcs))\n",
    "    #print(lu_total)\n",
    "except Exception as e:\n",
    "    print(e)"
   ]
  },
  {
   "cell_type": "markdown",
   "id": "ab81b58e",
   "metadata": {},
   "source": [
    "#### Call OSI API"
   ]
  },
  {
   "cell_type": "code",
   "execution_count": 16,
   "metadata": {},
   "outputs": [
    {
     "name": "stdout",
     "output_type": "stream",
     "text": [
      "12345"
     ]
    }
   ],
   "source": [
    "return_dict['watershed_geometry']\n",
    "temp = dict({ \"type\": \"MultiPolygon\", \"coordinates\": [ [ [ [ -74.765000308583041, 41.165270858418161 ], [ -74.764334823710072, 41.164560835257987 ], [ -74.764339, 41.16456 ], [ -74.764464, 41.164514 ], [ -74.764618, 41.164457 ], [ -74.764686, 41.164428 ], [ -74.764743, 41.16441 ], [ -74.764858, 41.164383 ], [ -74.764933, 41.164358 ], [ -74.765013, 41.164316 ], [ -74.765302, 41.164165 ], [ -74.76565, 41.163954 ], [ -74.765693, 41.163927 ], [ -74.765866, 41.163825 ], [ -74.766076, 41.163691 ], [ -74.766108, 41.163669 ], [ -74.766473, 41.163412 ], [ -74.766583, 41.163335 ], [ -74.767029, 41.163021 ], [ -74.7671, 41.162971 ], [ -74.767133, 41.162943 ], [ -74.767192, 41.162883 ], [ -74.767241, 41.162856 ], [ -74.767278, 41.162849 ], [ -74.767301, 41.162849 ], [ -74.767323, 41.162858 ], [ -74.767381, 41.162893 ], [ -74.767395, 41.162901 ], [ -74.76741, 41.162911 ], [ -74.767415, 41.162927 ], [ -74.767412, 41.162948 ], [ -74.767339, 41.163179 ], [ -74.767338, 41.163205 ], [ -74.767345, 41.163229 ], [ -74.767373, 41.163261 ], [ -74.767455, 41.163338 ], [ -74.767496, 41.163388 ], [ -74.767518, 41.163417 ], [ -74.767538, 41.163465 ], [ -74.767546, 41.163498 ], [ -74.767549, 41.163541 ], [ -74.76757, 41.163671 ], [ -74.767583, 41.163721 ], [ -74.767609, 41.163759 ], [ -74.767579, 41.163852 ], [ -74.767593, 41.163891 ], [ -74.767677, 41.163957 ], [ -74.767698, 41.164006 ], [ -74.767705, 41.164108 ], [ -74.767777, 41.16415 ], [ -74.767788, 41.164157 ], [ -74.767755, 41.164171 ], [ -74.767567, 41.164222 ], [ -74.767537, 41.164241 ], [ -74.767503, 41.164266 ], [ -74.767467, 41.164302 ], [ -74.767413, 41.164333 ], [ -74.767359, 41.164354 ], [ -74.766062, 41.164732 ], [ -74.765975, 41.164768 ], [ -74.765896, 41.164814 ], [ -74.765824, 41.164859 ], [ -74.765752, 41.164896 ], [ -74.765674, 41.164936 ], [ -74.765000308583041, 41.165270858418161 ] ] ], [ [ [ -74.764258, 41.163513 ], [ -74.764262, 41.16351 ], [ -74.764743, 41.163237 ], [ -74.765621, 41.162742 ], [ -74.766306, 41.162364 ], [ -74.767051, 41.161958 ], [ -74.767202, 41.161883 ], [ -74.767545, 41.162154 ], [ -74.766789, 41.162602 ], [ -74.765475, 41.163396 ], [ -74.764543, 41.16378 ], [ -74.764258, 41.163513 ] ] ], [ [ [ -74.769347, 41.162123 ], [ -74.769394, 41.162069 ], [ -74.769485, 41.161901 ], [ -74.769515, 41.161857 ], [ -74.769507, 41.161819 ], [ -74.769387, 41.161784 ], [ -74.768913, 41.161777 ], [ -74.768695, 41.161803 ], [ -74.768271, 41.161911 ], [ -74.768043, 41.161995 ], [ -74.767962, 41.162014 ], [ -74.767914, 41.162007 ], [ -74.76789, 41.161991 ], [ -74.767881, 41.161958 ], [ -74.767858, 41.161876 ], [ -74.768135, 41.161637 ], [ -74.768412, 41.161474 ], [ -74.768307, 41.161271 ], [ -74.768284203831527, 41.161284166283458 ], [ -74.768311, 41.161268 ], [ -74.768458, 41.161163 ], [ -74.768615, 41.161042 ], [ -74.768747, 41.160919 ], [ -74.768846, 41.16081 ], [ -74.768945, 41.160691 ], [ -74.76905, 41.160547 ], [ -74.769134, 41.160408 ], [ -74.769213, 41.160237 ], [ -74.76931, 41.160032 ], [ -74.769394, 41.159848 ], [ -74.769588, 41.159426 ], [ -74.769894, 41.158774 ], [ -74.770053, 41.158424 ], [ -74.770182, 41.158169 ], [ -74.770586, 41.158284 ], [ -74.770957, 41.157592 ], [ -74.771548, 41.157773 ], [ -74.772174, 41.157017 ], [ -74.776342, 41.158905 ], [ -74.776288, 41.159001 ], [ -74.77594, 41.158985 ], [ -74.775809, 41.159052 ], [ -74.775341, 41.159292 ], [ -74.774598, 41.159671 ], [ -74.773707, 41.160127 ], [ -74.772907, 41.16073 ], [ -74.771895, 41.16007 ], [ -74.771207, 41.160703 ], [ -74.770845, 41.161314 ], [ -74.770646, 41.16165 ], [ -74.770858, 41.162266 ], [ -74.771061, 41.162855 ], [ -74.771157, 41.163137 ], [ -74.771254, 41.163417 ], [ -74.771391, 41.163815 ], [ -74.770645, 41.164433 ], [ -74.770523, 41.164534 ], [ -74.770398, 41.164638 ], [ -74.770151, 41.164842 ], [ -74.769905, 41.165046 ], [ -74.769781, 41.165149 ], [ -74.769661, 41.165252 ], [ -74.769023, 41.165247 ], [ -74.768178, 41.165833 ], [ -74.768325, 41.165971 ], [ -74.766838, 41.166675 ], [ -74.766678520290696, 41.166601426136729 ], [ -74.766701, 41.166596 ], [ -74.766771, 41.166588 ], [ -74.766794, 41.166588 ], [ -74.766844, 41.166601 ], [ -74.766899, 41.166633 ], [ -74.768209, 41.165906 ], [ -74.768088, 41.165821 ], [ -74.768032, 41.165908 ], [ -74.767936, 41.165937 ], [ -74.767854, 41.165933 ], [ -74.767707, 41.165968 ], [ -74.767644, 41.165988 ], [ -74.767589, 41.166004 ], [ -74.767546, 41.166015 ], [ -74.767378, 41.166127 ], [ -74.767222, 41.166193 ], [ -74.767104, 41.16623 ], [ -74.767002, 41.166241 ], [ -74.766976, 41.166223 ], [ -74.766994, 41.166198 ], [ -74.767146, 41.166152 ], [ -74.767291, 41.166087 ], [ -74.767509, 41.165977 ], [ -74.767553, 41.16591 ], [ -74.767629, 41.165856 ], [ -74.767856, 41.165716 ], [ -74.76786, 41.165717 ], [ -74.767878, 41.165725 ], [ -74.767891, 41.165734 ], [ -74.767921, 41.165748 ], [ -74.767939, 41.165747 ], [ -74.768107, 41.165635 ], [ -74.768099, 41.165625 ], [ -74.768099, 41.165623 ], [ -74.768092, 41.165614 ], [ -74.768087, 41.165609 ], [ -74.768022, 41.165547 ], [ -74.76801, 41.165533 ], [ -74.76801, 41.165519 ], [ -74.768015, 41.165512 ], [ -74.768059, 41.165487 ], [ -74.768114, 41.165455 ], [ -74.768139, 41.165446 ], [ -74.768166, 41.165436 ], [ -74.768197, 41.165421 ], [ -74.768219, 41.165406 ], [ -74.768231, 41.165381 ], [ -74.768253, 41.165358 ], [ -74.768271, 41.165344 ], [ -74.768301, 41.165332 ], [ -74.768354, 41.165314 ], [ -74.768388, 41.165302 ], [ -74.768422, 41.165289 ], [ -74.768456, 41.165271 ], [ -74.768466, 41.165264 ], [ -74.768442, 41.165173 ], [ -74.768456, 41.165101 ], [ -74.768525, 41.165019 ], [ -74.768663, 41.164935 ], [ -74.768749, 41.164906 ], [ -74.768771, 41.164949 ], [ -74.768794, 41.164993 ], [ -74.768833, 41.16502 ], [ -74.768883, 41.165011 ], [ -74.769003, 41.164999 ], [ -74.769005, 41.164996 ], [ -74.769005, 41.164986 ], [ -74.769, 41.164979 ], [ -74.768978, 41.164977 ], [ -74.768976, 41.164975 ], [ -74.768955, 41.164975 ], [ -74.768935, 41.164971 ], [ -74.768922, 41.164871 ], [ -74.768923, 41.164853 ], [ -74.768934, 41.164825 ], [ -74.768958, 41.164813 ], [ -74.76904, 41.164784 ], [ -74.769194, 41.164686 ], [ -74.769362, 41.164596 ], [ -74.769406, 41.164476 ], [ -74.7695, 41.164228 ], [ -74.769759, 41.163939 ], [ -74.770006, 41.163661 ], [ -74.770311, 41.163365 ], [ -74.770353, 41.16335 ], [ -74.7704, 41.163362 ], [ -74.770423, 41.163397 ], [ -74.770414, 41.163475 ], [ -74.770343, 41.164008 ], [ -74.77031, 41.164217 ], [ -74.77033, 41.164232 ], [ -74.770353, 41.164232 ], [ -74.770388, 41.164211 ], [ -74.770421, 41.164156 ], [ -74.770518, 41.164107 ], [ -74.770588, 41.164045 ], [ -74.770588, 41.163979 ], [ -74.770579, 41.163849 ], [ -74.77096, 41.162974 ], [ -74.770987, 41.162869 ], [ -74.77099, 41.162722 ], [ -74.770966, 41.162632 ], [ -74.770935, 41.162585 ], [ -74.770881, 41.162538 ], [ -74.770815, 41.1625 ], [ -74.770764, 41.162489 ], [ -74.770706, 41.16248 ], [ -74.770652, 41.16246 ], [ -74.770609, 41.162433 ], [ -74.770562, 41.162387 ], [ -74.770527, 41.162334 ], [ -74.77048, 41.162261 ], [ -74.770403, 41.162182 ], [ -74.770348, 41.162156 ], [ -74.770332, 41.162153 ], [ -74.770271, 41.162144 ], [ -74.77008, 41.162139 ], [ -74.769947, 41.162104 ], [ -74.769802, 41.162036 ], [ -74.769699, 41.161966 ], [ -74.769611, 41.161909 ], [ -74.769566, 41.161862 ], [ -74.769482, 41.162023 ], [ -74.769431, 41.16207 ], [ -74.769347, 41.162123 ] ] ], [ [ [ -74.766341916752978, 41.166446138528237 ], [ -74.765312, 41.165971 ], [ -74.765442, 41.165892 ], [ -74.765468, 41.165902 ], [ -74.765473, 41.165947 ], [ -74.765599, 41.166014 ], [ -74.765689, 41.166006 ], [ -74.765881, 41.16612 ], [ -74.765927, 41.166186 ], [ -74.766226, 41.166343 ], [ -74.766341916752978, 41.166446138528237 ] ] ], [ [ [ -74.769347, 41.162123 ], [ -74.769333, 41.162206 ], [ -74.769265, 41.162266 ], [ -74.769332, 41.162313 ], [ -74.769404, 41.162315 ], [ -74.769492, 41.162314 ], [ -74.769562, 41.162343 ], [ -74.769631, 41.162381 ], [ -74.769727, 41.162404 ], [ -74.769942, 41.162458 ], [ -74.76997, 41.162465 ], [ -74.770604, 41.162654 ], [ -74.770629, 41.162689 ], [ -74.770629, 41.162735 ], [ -74.770604, 41.162777 ], [ -74.770461, 41.162829 ], [ -74.76992, 41.163023 ], [ -74.769843, 41.163081 ], [ -74.769731, 41.16324 ], [ -74.769436, 41.163708 ], [ -74.768599, 41.164499 ], [ -74.768484, 41.164594 ], [ -74.768351, 41.164743 ], [ -74.768277, 41.164869 ], [ -74.768202, 41.164949 ], [ -74.768064, 41.165057 ], [ -74.767958, 41.165131 ], [ -74.767848, 41.165185 ], [ -74.767781, 41.165233 ], [ -74.767722, 41.165284 ], [ -74.767675, 41.165284 ], [ -74.767627, 41.165278 ], [ -74.76761, 41.165264 ], [ -74.767501, 41.165156 ], [ -74.767407, 41.165107 ], [ -74.7673, 41.165012 ], [ -74.767119, 41.165098 ], [ -74.767017, 41.165303 ], [ -74.766804, 41.165417 ], [ -74.767112, 41.165606 ], [ -74.76709, 41.165692 ], [ -74.766958, 41.165873 ], [ -74.766498, 41.165957 ], [ -74.766031, 41.165855 ], [ -74.765804, 41.165706 ], [ -74.766039, 41.165564 ], [ -74.766309, 41.165442 ], [ -74.766571, 41.165217 ], [ -74.766768, 41.165166 ], [ -74.766887, 41.165045 ], [ -74.767128, 41.164915 ], [ -74.76737, 41.164768 ], [ -74.767586, 41.164715 ], [ -74.767818, 41.164524 ], [ -74.768014, 41.164363 ], [ -74.768148, 41.164273 ], [ -74.768199, 41.164257 ], [ -74.76826, 41.16414 ], [ -74.768298, 41.16399 ], [ -74.76831, 41.163804 ], [ -74.768301, 41.163679 ], [ -74.768135, 41.163527 ], [ -74.768105, 41.163478 ], [ -74.768093, 41.163427 ], [ -74.768093, 41.163353 ], [ -74.768093, 41.163289 ], [ -74.768093, 41.16313 ], [ -74.768119, 41.163125 ], [ -74.768141, 41.1631 ], [ -74.768148, 41.163075 ], [ -74.768151, 41.163057 ], [ -74.768112, 41.16303 ], [ -74.768093, 41.16302 ], [ -74.768069, 41.162982 ], [ -74.768051, 41.162944 ], [ -74.768051, 41.162907 ], [ -74.768047, 41.162866 ], [ -74.768076, 41.162831 ], [ -74.768108, 41.162812 ], [ -74.768137, 41.16275 ], [ -74.768148, 41.162732 ], [ -74.768172, 41.162706 ], [ -74.768227, 41.162657 ], [ -74.768288, 41.162601 ], [ -74.768326, 41.162553 ], [ -74.768352, 41.162493 ], [ -74.768372, 41.162404 ], [ -74.76839, 41.162375 ], [ -74.768422, 41.162349 ], [ -74.768472, 41.162329 ], [ -74.768735, 41.162249 ], [ -74.76879, 41.16224 ], [ -74.768837, 41.162239 ], [ -74.768893, 41.162253 ], [ -74.769019, 41.162312 ], [ -74.769075, 41.162327 ], [ -74.769127, 41.162332 ], [ -74.769148, 41.162328 ], [ -74.769201, 41.162285 ], [ -74.769256, 41.162225 ], [ -74.769292, 41.162186 ], [ -74.769347, 41.162123 ] ] ] ] })\n",
    "temp\n",
    "watershed_temp = shapely.geometry.shape(temp)\n",
    "watershed_temp\n",
    "\n",
    "try:\n",
    "    n = 1\n",
    "    pwr = {}\n",
    "    for geom in watershed_temp:\n",
    "        print(n, end='')\n",
    "        _x = json.dumps(shapely.geometry.mapping(geom))\n",
    "        _url = 'https://watersheds.cci.drexel.edu/api/osigeo/'\n",
    "        _headers = {}\n",
    "        _r_osi = requests.post(_url, data = _x , headers= _headers, allow_redirects=True, verify=True)\n",
    "        pwr_loop = eval(_r_osi.text)\n",
    "        # Convert to acres / feet\n",
    "        for r, sqm in pwr_loop.items():                \n",
    "            if r in pwr.keys():\n",
    "                if r == 'str_bank':\n",
    "                    _v = sqm / 1609.34\n",
    "                else:\n",
    "                    _v = sqm / 4046.86\n",
    "                \n",
    "                pwr[r] += _v\n",
    "            else:\n",
    "                if r == 'str_bank':\n",
    "                    pwr[r] = sqm / 1609.34\n",
    "                else:\n",
    "                    pwr[r] = sqm / 4046.86\n",
    "        n += 1\n",
    "\n",
    "    # Get PWR percents\n",
    "    pwr_percent = {}\n",
    "    for r, acres in pwr.items():\n",
    "        try:\n",
    "            value = acres / lu_total * 100\n",
    "            if value >= 100:\n",
    "                value = 100\n",
    "            pwr_percent[r] = value\n",
    "        except:\n",
    "            pwr_percent[r] = 0.001\n",
    "    #print('\\nValues: {}'.format(pwr))\n",
    "    #print('Percents: {}'.format(pwr_percent))\n",
    "        \n",
    "except Exception as e:\n",
    "    print(e)\n",
    "    print('test')\n"
   ]
  },
  {
   "cell_type": "code",
   "execution_count": 17,
   "id": "fbb15d16",
   "metadata": {},
   "outputs": [
    {
     "name": "stdout",
     "output_type": "stream",
     "text": [
      "1"
     ]
    }
   ],
   "source": [
    "try:\n",
    "    n = 1\n",
    "    pwr = {}\n",
    "    for geom in watershed_shapely:\n",
    "        print(n, end='')\n",
    "        _x = json.dumps(shapely.geometry.mapping(geom))\n",
    "        _url = 'https://watersheds.cci.drexel.edu/api/osigeo/'\n",
    "        _headers = {}\n",
    "        _r_osi = requests.post(_url, data = _x , headers= _headers, allow_redirects=True, verify=True)\n",
    "        pwr_loop = eval(_r_osi.text)\n",
    "        # Convert to acres / feet\n",
    "        for r, sqm in pwr_loop.items():                \n",
    "            if r in pwr.keys():\n",
    "                if r == 'str_bank':\n",
    "                    _v = sqm / 1609.34\n",
    "                else:\n",
    "                    _v = sqm / 4046.86\n",
    "                \n",
    "                pwr[r] += _v\n",
    "            else:\n",
    "                if r == 'str_bank':\n",
    "                    pwr[r] = sqm / 1609.34\n",
    "                else:\n",
    "                    pwr[r] = sqm / 4046.86\n",
    "        n += 1\n",
    "\n",
    "    # Get PWR percents\n",
    "    pwr_percent = {}\n",
    "    for r, acres in pwr.items():\n",
    "        try:\n",
    "            value = acres / lu_total * 100\n",
    "            if value >= 100:\n",
    "                value = 100\n",
    "            pwr_percent[r] = value\n",
    "        except:\n",
    "            pwr_percent[r] = 0.001\n",
    "    #print('\\nValues: {}'.format(pwr))\n",
    "    #print('Percents: {}'.format(pwr_percent))\n",
    "        \n",
    "except Exception as e:\n",
    "    print(e)\n",
    "    print('test')"
   ]
  },
  {
   "cell_type": "markdown",
   "id": "dfeb0d3c",
   "metadata": {},
   "source": [
    "### Create the final visualization"
   ]
  },
  {
   "cell_type": "code",
   "execution_count": 48,
   "id": "92fa7f65",
   "metadata": {},
   "outputs": [
    {
     "data": {
      "application/vnd.jupyter.widget-view+json": {
       "model_id": "1198fb4b413a4c6ea36b3e5a17b980ab",
       "version_major": 2,
       "version_minor": 0
      },
      "text/plain": [
       "Map(center=[39.985714739571144, -76.20000814540288], controls=(ZoomControl(options=['position', 'zoom_in_text'…"
      ]
     },
     "metadata": {},
     "output_type": "display_data"
    }
   ],
   "source": [
    "# Generate the second map\n",
    "# Show the polygon and its watershed on a new map\n",
    "try:\n",
    "    zoom_level = round((-0.697 * np.log(lu_total)) + 18.003)\n",
    "except:\n",
    "    zoom_level = 15.0\n",
    "\n",
    "displaymap2 = Map(center = (watershed_shapely.centroid.coords[0][1], watershed_shapely.centroid.coords[0][0])\n",
    "                 , min_zoom = 1, max_zoom = 20, scroll_wheel_zoom = True,\n",
    "    basemap=basemaps.Esri.WorldStreetMap)\n",
    "\n",
    "zoom_slider2 = IntSlider(description='Zoom level:', min=0, max=20, value=zoom_level)\n",
    "jslink((zoom_slider2, 'value'), (displaymap2, 'zoom'))\n",
    "widget_control2 = WidgetControl(widget=zoom_slider2, position='topright')\n",
    "\n",
    "watershed = GeoJSON(\n",
    "    data=watershed_geojson,\n",
    "    style={\n",
    "        'opacity': 1, 'dashArray': '2', 'fillOpacity': 0.2, 'weight': 1, 'color': 'blue'\n",
    "    }\n",
    ")\n",
    "\n",
    "polygon = GeoJSON(\n",
    "    data=last_geom,\n",
    "    style={\n",
    "        'opacity': 1, 'fillOpacity': 0.1, 'weight': 2, 'color': 'green'\n",
    "    }\n",
    ")\n",
    "\n",
    "measure2 = MeasureControl(\n",
    "    position='topright',\n",
    "    active_color = 'red',\n",
    "    primary_length_unit = 'kilometers'\n",
    ")\n",
    "\n",
    "measure2.completed_color = 'red'\n",
    "measure2.add_length_unit('miles', 0.000621371, 1)\n",
    "measure2.secondary_length_unit = 'miles'\n",
    "measure2.add_area_unit('sqkm', 0.0000001, 1)\n",
    "measure2.secondary_area_unit = 'sqkm'\n",
    "\n",
    "displaymap2.add_layer(polygon)\n",
    "displaymap2.add_layer(watershed)\n",
    "# displaymap2.add_control(widget_control2)\n",
    "\n",
    "left_layer = basemap_to_tiles(basemaps.Esri.WorldImagery)\n",
    "right_layer = basemap_to_tiles(basemaps.Esri.WorldStreetMap)\n",
    "\n",
    "split_control = SplitMapControl(left_layer=left_layer, right_layer=right_layer)\n",
    "displaymap2.add_control(split_control)\n",
    "\n",
    "displaymap2.add_control(measure2)\n",
    "\n",
    "displaymap2\n"
   ]
  },
  {
   "cell_type": "code",
   "execution_count": 46,
   "id": "27c13afb",
   "metadata": {},
   "outputs": [
    {
     "name": "stdout",
     "output_type": "stream",
     "text": [
      "Total Drainage Area Acres: 1.33\n"
     ]
    },
    {
     "ename": "KeyError",
     "evalue": "'0'",
     "output_type": "error",
     "traceback": [
      "\u001b[1;31m---------------------------------------------------------------------------\u001b[0m",
      "\u001b[1;31mKeyError\u001b[0m                                  Traceback (most recent call last)",
      "\u001b[1;32m<ipython-input-46-e50a49687a28>\u001b[0m in \u001b[0;36m<module>\u001b[1;34m\u001b[0m\n\u001b[0;32m     40\u001b[0m              '95': 'Emergent Herbaceous Wetlands'}\n\u001b[0;32m     41\u001b[0m \u001b[1;33m\u001b[0m\u001b[0m\n\u001b[1;32m---> 42\u001b[1;33m \u001b[0mcolors\u001b[0m \u001b[1;33m=\u001b[0m \u001b[1;33m{\u001b[0m\u001b[0mx\u001b[0m\u001b[1;33m:\u001b[0m \u001b[0mcolormap\u001b[0m\u001b[1;33m[\u001b[0m\u001b[0mx\u001b[0m\u001b[1;33m]\u001b[0m \u001b[1;32mfor\u001b[0m \u001b[0mx\u001b[0m \u001b[1;32min\u001b[0m \u001b[0mlulcs\u001b[0m\u001b[1;33m}\u001b[0m\u001b[1;33m\u001b[0m\u001b[1;33m\u001b[0m\u001b[0m\n\u001b[0m\u001b[0;32m     43\u001b[0m \u001b[0mx_labels\u001b[0m \u001b[1;33m=\u001b[0m \u001b[1;33m{\u001b[0m\u001b[0mx\u001b[0m\u001b[1;33m:\u001b[0m \u001b[0mcrosswalk\u001b[0m\u001b[1;33m[\u001b[0m\u001b[0mx\u001b[0m\u001b[1;33m]\u001b[0m \u001b[1;32mfor\u001b[0m \u001b[0mx\u001b[0m \u001b[1;32min\u001b[0m \u001b[0mlulcs\u001b[0m\u001b[1;33m}\u001b[0m\u001b[1;33m\u001b[0m\u001b[1;33m\u001b[0m\u001b[0m\n\u001b[0;32m     44\u001b[0m \u001b[1;33m\u001b[0m\u001b[0m\n",
      "\u001b[1;32m<ipython-input-46-e50a49687a28>\u001b[0m in \u001b[0;36m<dictcomp>\u001b[1;34m(.0)\u001b[0m\n\u001b[0;32m     40\u001b[0m              '95': 'Emergent Herbaceous Wetlands'}\n\u001b[0;32m     41\u001b[0m \u001b[1;33m\u001b[0m\u001b[0m\n\u001b[1;32m---> 42\u001b[1;33m \u001b[0mcolors\u001b[0m \u001b[1;33m=\u001b[0m \u001b[1;33m{\u001b[0m\u001b[0mx\u001b[0m\u001b[1;33m:\u001b[0m \u001b[0mcolormap\u001b[0m\u001b[1;33m[\u001b[0m\u001b[0mx\u001b[0m\u001b[1;33m]\u001b[0m \u001b[1;32mfor\u001b[0m \u001b[0mx\u001b[0m \u001b[1;32min\u001b[0m \u001b[0mlulcs\u001b[0m\u001b[1;33m}\u001b[0m\u001b[1;33m\u001b[0m\u001b[1;33m\u001b[0m\u001b[0m\n\u001b[0m\u001b[0;32m     43\u001b[0m \u001b[0mx_labels\u001b[0m \u001b[1;33m=\u001b[0m \u001b[1;33m{\u001b[0m\u001b[0mx\u001b[0m\u001b[1;33m:\u001b[0m \u001b[0mcrosswalk\u001b[0m\u001b[1;33m[\u001b[0m\u001b[0mx\u001b[0m\u001b[1;33m]\u001b[0m \u001b[1;32mfor\u001b[0m \u001b[0mx\u001b[0m \u001b[1;32min\u001b[0m \u001b[0mlulcs\u001b[0m\u001b[1;33m}\u001b[0m\u001b[1;33m\u001b[0m\u001b[1;33m\u001b[0m\u001b[0m\n\u001b[0;32m     44\u001b[0m \u001b[1;33m\u001b[0m\u001b[0m\n",
      "\u001b[1;31mKeyError\u001b[0m: '0'"
     ]
    },
    {
     "data": {
      "image/png": "[encoded data removed]",
      "text/plain": [
       "<Figure size 720x360 with 1 Axes>"
      ]
     },
     "metadata": {
      "needs_background": "light"
     },
     "output_type": "display_data"
    }
   ],
   "source": [
    "############################\n",
    "# FINAL VISUALIZATION PAGE #\n",
    "############################\n",
    "\n",
    "# Show land cover summary\n",
    "print('Total Drainage Area Acres: {}'.format(round(lu_total_bmp,2)))\n",
    "# for lulc, sqm in lulcs.items():\n",
    "#     print('{}: {}'.format(lulc, round(sqm,2)), end =\", \")\n",
    "\n",
    "##########################\n",
    "# Create Land Cover Plot #\n",
    "##########################\n",
    "\n",
    "plot_length = int(len(lulcs))\n",
    "if plot_length > 10:\n",
    "    plot_length = 10\n",
    "\n",
    "fig2 = plt.figure()\n",
    "fig2.set_size_inches(plot_length,5)\n",
    "ax2 = fig2.add_axes([0,0,1,1])\n",
    "\n",
    "colormap = {'11': '#5475a8','21': '#e8d1d1','22': '#e29e8c','23': '#ff0000','24': '#b50000','31': '#d2cdc0',\n",
    "            '41': '#86c77e','42': '#39814e','43': '#d5e7b0','52': '#dcca8f','71': '#fde9aa','81': '#fbf65c',\n",
    "            '82': '#ca9146','90': '#c8e6f8','95': '#64b3d5'}\n",
    "\n",
    "crosswalk = {'11': 'Open Water',\n",
    "             '21': 'Developed Open Space',\n",
    "             '22': 'Developed Low Intensity',\n",
    "             '23': 'Developed Medium Intensity',\n",
    "             '24': 'Developed High Intensity',\n",
    "             '31': 'Barren Land',\n",
    "             '41': 'Deciduous Forest',\n",
    "             '42': 'Evergreen Forest',\n",
    "             '43': 'Mixed Forest',\n",
    "             '52': 'Shrub/Scrub',\n",
    "             '71': 'Grassland Herbaceous',\n",
    "             '81': 'Pasture Hay',\n",
    "             '82': 'Cultivated Crops',\n",
    "             '90': 'Woody Wetlands',\n",
    "             '95': 'Emergent Herbaceous Wetlands'}\n",
    "\n",
    "colors = {x: colormap[x] for x in lulcs}\n",
    "x_labels = {x: crosswalk[x] for x in lulcs}\n",
    "\n",
    "ax2.bar(list(lulcs.keys()), list(lulcs.values()), align='center', color=colors.values())\n",
    "#ax.set_xticklabels(x_labels.values())\n",
    "ax2.set_ylabel('Area (acres)')\n",
    "ax2.set_title('Watershed Land Cover Distribution (NLCD 2011)')\n",
    "handles = [plt.Rectangle((0,0),len(lulcs),len(lulcs), color=colors[label]) for label in x_labels]\n",
    "ax2.legend(handles, x_labels.values(), bbox_to_anchor=(1.02, 1), loc='upper left')\n",
    "\n",
    "plt.show()\n",
    "\n",
    "##########################\n",
    "# Show Reductions #\n",
    "##########################\n",
    "\n",
    "\n",
    "if reductions['tss'] <= 2000.0:\n",
    "    print('The %s BMP treats %.1f acres (%.0f percent impervious), and is estimated to reduce:\\n\\tNitrogen: %.2f pounds\\n'\n",
    "    '\\tPhosphorus: %.2f pounds\\n'\n",
    "    '\\tSediment: %.2f pounds\\n' % (bmp, lu_total_bmp, p_impervious, reductions['tn'],reductions['tp'],reductions['tss']))\n",
    "else:\n",
    "    print('The %s BMP treats %.1f acres (%.0f percent impervious), and is estimated to reduce:\\n\\tNitrogen: %.2f pounds\\n'\n",
    "    '\\tPhosphorus: %.2f pounds\\n'\n",
    "    '\\tSediment: %.2f tons\\n' % (bmp, lu_total_bmp, p_impervious, reductions['tn'],reductions['tp'],reductions['tss']))\n",
    "\n",
    "print('*  Note: Volume reductions are applicable only to urban stormwater management.')\n",
    "if archetype == 'Urban Stormwater Management':\n",
    "    if acres_treated > lu_total:\n",
    "        print('** Warning: Number of sewershed acres treated given (%.2f) is larger than the expected overland drainage area (%.2f).'%(acres_treated, lu_total))\n",
    "    elif 0 < acres_treated < lu_total:\n",
    "        print('** Warning: Number of sewershed acres treated given (%.2f) is smaller than the expected overland drainage area (%.2f). The calculated drainage area does not consider subsurface pipe networks so this is to be expected with urban stormwater networks.'%(acres_treated, lu_total))\n",
    "elif archetype == 'Polygon Drainage' or archetype == 'Exclusion Buffer':\n",
    "    if 'Buffer' in bmp and lu_total > 100.0:\n",
    "        print(\"** Warning: The buffer drains a large area (%.2f acres) and may contain concentrated flow paths, which would reduce estimated reduction.\"%(lu_total))\n",
    "\n",
    "################\n",
    "# Show the map #\n",
    "################\n",
    "\n",
    "displaymap2"
   ]
  },
  {
   "cell_type": "markdown",
   "id": "daf1df82",
   "metadata": {},
   "source": [
    "###### Scratch Space (save outputs temporarily)\n"
   ]
  },
  {
   "cell_type": "code",
   "execution_count": null,
   "id": "c0319096",
   "metadata": {},
   "outputs": [],
   "source": []
  }
 ],
 "metadata": {
  "kernelspec": {
   "display_name": "ScratchPoly",
   "language": "python",
   "name": "scratchpoly"
  },
  "language_info": {
   "codemirror_mode": {
    "name": "ipython",
    "version": 3
   },
   "file_extension": ".py",
   "mimetype": "text/x-python",
   "name": "python",
   "nbconvert_exporter": "python",
   "pygments_lexer": "ipython3",
   "version": "3.7.10"
  }
 },
 "nbformat": 4,
 "nbformat_minor": 5
}
