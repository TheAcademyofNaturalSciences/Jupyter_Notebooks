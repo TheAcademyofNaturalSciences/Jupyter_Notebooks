{
 "cells": [
  {
   "cell_type": "markdown",
   "id": "c08865cd",
   "metadata": {},
   "source": [
    "### Watershed Delineation Application Programming Interface (API)\n",
    "###### Academy of Natural Sciences of Drexel University,  Drexel University College of Computing and Informatics\n",
    "\n",
    "The Drexel University College of Computing and Informatics (CCI) and the Academy of Natural Sciences (ANS) of Drexel University have developed Application Programming Interfaces (APIs) which incorporate novel algorithms to apply efficient solutions to complex environmental queries. The APIs are built in Python using a GeoDjango Web framework, Nginx, Docker, PostgreSQL, and Swagger.\n",
    "\n",
    "The Watersheds API utilizes a rapid watershed delineation algorithm for 2D flow direction grids. This API quickly delineates a watershed boundary for any simple geometric object (point, line, or polygon). This algorithm provides geometric speed increases in watershed boundary retrieval while keeping storage constraints linear in comparison to existing techniques. Existing techniques also scale proportionally to the area of the underlying region; however, the complexity of this algorithm is proportional to the boundary length as is relies on a Watershed Marching Algorithm (WMA). (Haag et al. 2018, https://www.sciencedirect.com/science/article/abs/pii/S1364815218303530)"
   ]
  },
  {
   "cell_type": "code",
   "execution_count": 1,
   "id": "7b9cb1d7",
   "metadata": {},
   "outputs": [],
   "source": [
    "from ipyleaflet import Map, basemaps, Polygon, DrawControl, WidgetControl, GeoJSON, MeasureControl\n",
    "from ipywidgets import IntSlider, ColorPicker, jslink\n",
    "import requests\n",
    "import geojson\n",
    "import json\n",
    "import shapely\n",
    "import matplotlib.pyplot as plt\n",
    "import numpy as np"
   ]
  },
  {
   "cell_type": "code",
   "execution_count": 20,
   "id": "01830563",
   "metadata": {},
   "outputs": [
    {
     "data": {
      "application/vnd.jupyter.widget-view+json": {
       "model_id": "4f43c3c4e3114a1ebf283346f592dc6c",
       "version_major": 2,
       "version_minor": 0
      },
      "text/plain": [
       "Map(center=[40.05, -75.215], controls=(ZoomControl(options=['position', 'zoom_in_text', 'zoom_in_title', 'zoom…"
      ]
     },
     "metadata": {},
     "output_type": "display_data"
    }
   ],
   "source": [
    "# Create the map\n",
    "# Map centred on Wissahickon Park\n",
    "displaymap1 = Map(center = (40.050, -75.215), zoom = 12, min_zoom = 1, max_zoom = 20,  scroll_wheel_zoom = True,\n",
    "    basemap=basemaps.Esri.WorldStreetMap)\n",
    "\n",
    "# Enable user to draw polygons and lines\n",
    "draw_control = DrawControl()\n",
    "draw_control.polyline =  {\n",
    "    \"shapeOptions\": {\n",
    "        \"color\": \"#6bc2e5\",\n",
    "        \"weight\": 4,\n",
    "        \"opacity\": 1.0\n",
    "    }\n",
    "}\n",
    "draw_control.polygon = {\n",
    "    \"shapeOptions\": {\n",
    "        \"fillColor\": \"#6be5c3\",\n",
    "        \"color\": \"#6be5c3\",\n",
    "        \"fillOpacity\": 0.3\n",
    "    },\n",
    "    \"drawError\": {\n",
    "        \"color\": \"#dd253b\",\n",
    "        \"message\": \"Oups!\"\n",
    "    },\n",
    "    \"allowIntersection\": True,\n",
    "}\n",
    "\n",
    "# Save the drawn geometry to a geojson\n",
    "feature_collection = {\n",
    "    'type': 'FeatureCollection',\n",
    "    'features': []\n",
    "}\n",
    "\n",
    "def handle_draw(self, action, geo_json):\n",
    "    # Save the GeoJSON when it's drawn on the map  \n",
    "    feature_collection['features'].append(geo_json)\n",
    "\n",
    "# Add in a zoom slider bar for fun\n",
    "zoom_slider1 = IntSlider(description='Zoom level:', min=0, max=20, value=12)\n",
    "jslink((zoom_slider1, 'value'), (displaymap1, 'zoom'))\n",
    "widget_control1 = WidgetControl(widget=zoom_slider1, position='topright')\n",
    "\n",
    "# Add in ability to do measurements\n",
    "measure = MeasureControl(\n",
    "    position='bottomleft',\n",
    "    active_color = 'orange',\n",
    "    primary_length_unit = 'kilometers'\n",
    ")\n",
    "\n",
    "displaymap1.add_control(measure)\n",
    "\n",
    "measure.completed_color = 'red'\n",
    "\n",
    "measure.add_length_unit('yards', 1.09361, 4)\n",
    "measure.secondary_length_unit = 'yards'\n",
    "\n",
    "measure.add_area_unit('sqyards', 1.19599, 4)\n",
    "measure.secondary_area_unit = 'sqyards'\n",
    "\n",
    "# Add everything into the map\n",
    "draw_control.on_draw(handle_draw)\n",
    "displaymap1.add_control(draw_control)\n",
    "displaymap1.add_control(widget_control1)\n",
    "\n",
    "# Show the map\n",
    "displaymap1"
   ]
  },
  {
   "cell_type": "code",
   "execution_count": 9,
   "id": "a23b3891",
   "metadata": {},
   "outputs": [
    {
     "data": {
      "text/plain": [
       "{'type': 'Point', 'coordinates': [-75.205566, 40.016283]}"
      ]
     },
     "execution_count": 9,
     "metadata": {},
     "output_type": "execute_result"
    }
   ],
   "source": [
    "# Show the last drawn shape\n",
    "last_geom_idx = len(feature_collection['features']) - 1\n",
    "last_geom = feature_collection['features'][last_geom_idx]['geometry']\n",
    "last_geom"
   ]
  },
  {
   "cell_type": "code",
   "execution_count": 10,
   "id": "253785f8",
   "metadata": {},
   "outputs": [],
   "source": [
    "# Call the Watersheds API with the drawn shape\n",
    "_x = json.dumps(last_geom)\n",
    "_url = 'https://watersheds.cci.drexel.edu/api/watershedboundary/'\n",
    "_headers = {'Content-Type': 'application/json'}\n",
    "_r = requests.post(_url, data = _x , headers= _headers, allow_redirects=True, verify=True)"
   ]
  },
  {
   "cell_type": "code",
   "execution_count": 11,
   "id": "d153a4ef",
   "metadata": {},
   "outputs": [
    {
     "name": "stdout",
     "output_type": "stream",
     "text": [
      "<class 'geojson.geometry.Polygon'>\n"
     ]
    },
    {
     "data": {
      "image/svg+xml": [
       "<svg xmlns=\"http://www.w3.org/2000/svg\" xmlns:xlink=\"http://www.w3.org/1999/xlink\" width=\"100.0\" height=\"100.0\" viewBox=\"-75.20559938757465 40.015982838517935 0.00034612087742402764 0.00034512274327624937\" preserveAspectRatio=\"xMinYMin meet\"><g transform=\"matrix(1,0,0,-1,0,80.03231079977914)\"><path fill-rule=\"evenodd\" fill=\"#ff3333\" stroke=\"#555555\" stroke-width=\"6.922417548480553e-06\" opacity=\"0.6\" d=\"M -75.20547118821501,40.01620864730802 L -75.2054455306962,40.01629576852817 L -75.2054455306962,40.01629576852817 L -75.20556091089723,40.01631514196946 L -75.2055865682829,40.01622802072493 L -75.20547118821501,40.01620864730802 L -75.20549684567153,40.01612152608627 L -75.2053814657991,40.016102152588026 L -75.2054071233265,40.016015031389145 L -75.20529174364952,40.01599565780969 L -75.20526608598898,40.01608277898425 L -75.2053814657991,40.016102152588026 L -75.20535580820943,40.01618927378539 L -75.20547118821501,40.01620864730802 z\" /></g></svg>"
      ],
      "text/plain": [
       "<shapely.geometry.polygon.Polygon at 0x24f92060880>"
      ]
     },
     "execution_count": 11,
     "metadata": {},
     "output_type": "execute_result"
    }
   ],
   "source": [
    "# Save the watershed as a geojson and a shapely geometry object\n",
    "watershed_geojson = geojson.loads(_r.text)\n",
    "watershed_shapely = shapely.geometry.shape(_r.json())\n",
    "print(type(watershed_geojson))\n",
    "watershed_shapely"
   ]
  },
  {
   "cell_type": "markdown",
   "id": "ab81b58e",
   "metadata": {},
   "source": [
    "### OSI Spatial Analysis\n",
    "###### Academy of Natural Sciences of Drexel University,  Drexel University College of Computing and Informatics\n",
    "\n",
    "The Open Space Institute (OSI) funded the creation of an API in which when given an input a polygon, the amount of stream bank, headwaters, active river area (ARA), wetlands, and all Priority Water Resources (PWR) within are returned."
   ]
  },
  {
   "cell_type": "code",
   "execution_count": 12,
   "id": "fbb15d16",
   "metadata": {},
   "outputs": [
    {
     "name": "stdout",
     "output_type": "stream",
     "text": [
      "{'str_bank': 0.006405288403679149, 'head_pwr': 0.0, 'ara_pwr': 0.07393975837676568, 'wet_pwr': 0.0, 'tot_pwr': 0.07393975837676568}\n"
     ]
    }
   ],
   "source": [
    "_x = json.dumps(watershed_geojson)\n",
    "_url = 'https://watersheds.cci.drexel.edu/api/osigeo/'\n",
    "_headers = {}\n",
    "_r = requests.post(_url, data = _x , headers= _headers, allow_redirects=True, verify=True)\n",
    "pwr = eval(_r.text)\n",
    "\n",
    "# Convert to acres\n",
    "for r, sqm in pwr.items():\n",
    "    if r == 'str_bank':\n",
    "        value = sqm / 1609.34\n",
    "    else:\n",
    "        value = sqm / 4046.86\n",
    "    pwr[r] = value\n",
    "\n",
    "print(pwr)"
   ]
  },
  {
   "cell_type": "markdown",
   "id": "201aeb4c",
   "metadata": {},
   "source": [
    "### Fast Zonal Statistics API\n",
    "###### Academy of Natural Sciences of Drexel University,  Drexel University College of Computing and Informatics\n",
    "\n",
    "The Fast-Zonal Statistics (FZS) API can return numerical attributes (mean, sum, and count) for a submitted polygon query region over any regular grid or raster dataset. Common applications of this technology include determining the amount of precipitation or impervious surfaces in a watershed. This algorithm is labeled “fast” because to determine the zonal sum for a polygon over a raster surface, only the cells which intersect the boundary of the polygon must be traversed rather than all the interior cells. This means that computationally the approach scales much better with increased data resolution as the FZS algorithm is constant in relation to the length (meters) of the polygon perimeter rather than its area (meters square). (Haag et al. 2020, https://www.sciencedirect.com/science/article/pii/S0098300419306697)"
   ]
  },
  {
   "cell_type": "code",
   "execution_count": 13,
   "id": "07f5fb60",
   "metadata": {},
   "outputs": [],
   "source": [
    "# Call the Fast Zonal API with the Watershed Boundary\n",
    "_x = json.dumps(watershed_geojson)\n",
    "_url = 'https://watersheds.cci.drexel.edu/api/fzs/'\n",
    "_headers = {}\n",
    "_r = requests.post(_url, data = _x , headers= _headers, allow_redirects=True, verify=True)\n",
    "lulcs = eval(_r.text)\n",
    "\n",
    "# Convert to acres\n",
    "lu_total = 0\n",
    "for lulc, sqm in lulcs.items():\n",
    "    value = sqm / 4046.86\n",
    "    lulcs[lulc] = value\n",
    "    lu_total += value\n",
    "\n",
    "# Get PWR percents\n",
    "pwr_percent = {}\n",
    "for r, acres in pwr.items():\n",
    "    try:\n",
    "        value = acres / lu_total * 100\n",
    "        if value >= 100:\n",
    "            value = 100\n",
    "        pwr_percent[r] = value\n",
    "    except:\n",
    "        pwr_percent[r] = 0.001\n",
    "    "
   ]
  },
  {
   "cell_type": "code",
   "execution_count": 14,
   "id": "ccd3a381",
   "metadata": {},
   "outputs": [
    {
     "name": "stderr",
     "output_type": "stream",
     "text": [
      "<ipython-input-14-2256ae43476c>:2: RuntimeWarning: divide by zero encountered in log\n",
      "  zoom_level = round((-0.697 * np.log(lu_total)) + 18.003)\n"
     ]
    },
    {
     "ename": "OverflowError",
     "evalue": "cannot convert float infinity to integer",
     "output_type": "error",
     "traceback": [
      "\u001b[1;31m---------------------------------------------------------------------------\u001b[0m",
      "\u001b[1;31mOverflowError\u001b[0m                             Traceback (most recent call last)",
      "\u001b[1;32m<ipython-input-14-2256ae43476c>\u001b[0m in \u001b[0;36m<module>\u001b[1;34m\u001b[0m\n\u001b[0;32m      1\u001b[0m \u001b[1;31m# Show the polygon and its watershed on a new map\u001b[0m\u001b[1;33m\u001b[0m\u001b[1;33m\u001b[0m\u001b[1;33m\u001b[0m\u001b[0m\n\u001b[1;32m----> 2\u001b[1;33m \u001b[0mzoom_level\u001b[0m \u001b[1;33m=\u001b[0m \u001b[0mround\u001b[0m\u001b[1;33m(\u001b[0m\u001b[1;33m(\u001b[0m\u001b[1;33m-\u001b[0m\u001b[1;36m0.697\u001b[0m \u001b[1;33m*\u001b[0m \u001b[0mnp\u001b[0m\u001b[1;33m.\u001b[0m\u001b[0mlog\u001b[0m\u001b[1;33m(\u001b[0m\u001b[0mlu_total\u001b[0m\u001b[1;33m)\u001b[0m\u001b[1;33m)\u001b[0m \u001b[1;33m+\u001b[0m \u001b[1;36m18.003\u001b[0m\u001b[1;33m)\u001b[0m\u001b[1;33m\u001b[0m\u001b[1;33m\u001b[0m\u001b[0m\n\u001b[0m\u001b[0;32m      3\u001b[0m \u001b[1;33m\u001b[0m\u001b[0m\n\u001b[0;32m      4\u001b[0m displaymap2 = Map(center = (watershed_shapely.centroid.coords[0][1], watershed_shapely.centroid.coords[0][0])\n\u001b[0;32m      5\u001b[0m                  \u001b[1;33m,\u001b[0m \u001b[0mmin_zoom\u001b[0m \u001b[1;33m=\u001b[0m \u001b[1;36m1\u001b[0m\u001b[1;33m,\u001b[0m \u001b[0mmax_zoom\u001b[0m \u001b[1;33m=\u001b[0m \u001b[1;36m20\u001b[0m\u001b[1;33m,\u001b[0m \u001b[0mscroll_wheel_zoom\u001b[0m \u001b[1;33m=\u001b[0m \u001b[1;32mTrue\u001b[0m\u001b[1;33m,\u001b[0m\u001b[1;33m\u001b[0m\u001b[1;33m\u001b[0m\u001b[0m\n",
      "\u001b[1;31mOverflowError\u001b[0m: cannot convert float infinity to integer"
     ]
    }
   ],
   "source": [
    "# Show the polygon and its watershed on a new map\n",
    "zoom_level = round((-0.697 * np.log(lu_total)) + 18.003)\n",
    "\n",
    "displaymap2 = Map(center = (watershed_shapely.centroid.coords[0][1], watershed_shapely.centroid.coords[0][0])\n",
    "                 , min_zoom = 1, max_zoom = 20, scroll_wheel_zoom = True,\n",
    "    basemap=basemaps.Esri.WorldStreetMap)\n",
    "\n",
    "zoom_slider2 = IntSlider(description='Zoom level:', min=0, max=20, value=zoom_level)\n",
    "jslink((zoom_slider2, 'value'), (displaymap2, 'zoom'))\n",
    "widget_control2 = WidgetControl(widget=zoom_slider2, position='topright')\n",
    "\n",
    "watershed = GeoJSON(\n",
    "    data=watershed_geojson,\n",
    "    style={\n",
    "        'opacity': 1, 'dashArray': '2', 'fillOpacity': 0.2, 'weight': 1, 'color': 'blue'\n",
    "    }\n",
    ")\n",
    "\n",
    "polygon = GeoJSON(\n",
    "    data=last_geom,\n",
    "    style={\n",
    "        'opacity': 1, 'fillOpacity': 0.1, 'weight': 2, 'color': 'green'\n",
    "    }\n",
    ")\n",
    "\n",
    "measure = MeasureControl(\n",
    "    position='bottomleft',\n",
    "    active_color = 'orange',\n",
    "    primary_length_unit = 'kilometers'\n",
    ")\n",
    "\n",
    "displaymap2.add_control(measure)\n",
    "\n",
    "measure.completed_color = 'red'\n",
    "\n",
    "measure.add_length_unit('yards', 1.09361, 4)\n",
    "measure.secondary_length_unit = 'yards'\n",
    "\n",
    "measure.add_area_unit('sqyards', 1.19599, 4)\n",
    "measure.secondary_area_unit = 'sqyards'\n",
    "\n",
    "displaymap2.add_layer(polygon)\n",
    "displaymap2.add_layer(watershed)\n",
    "displaymap2.add_control(widget_control2)\n"
   ]
  },
  {
   "cell_type": "code",
   "execution_count": 16,
   "id": "27c13afb",
   "metadata": {},
   "outputs": [
    {
     "name": "stdout",
     "output_type": "stream",
     "text": [
      "Total Acres: 0\n",
      "Stream Bank (mi): 0.01\n",
      "Headwaters (ac): 0.0\n",
      "Active River Area (ac): 0.07\n",
      "Wetlands (ac): 0.0\n",
      "Total Priority Water Resources (PWR) (ac): 0.07\n"
     ]
    },
    {
     "data": {
      "image/png": "[encoded data removed]",
      "text/plain": [
       "<Figure size 1080x1080 with 4 Axes>"
      ]
     },
     "metadata": {},
     "output_type": "display_data"
    },
    {
     "name": "stderr",
     "output_type": "stream",
     "text": [
      "C:\\Users\\mcamp\\Anaconda3\\envs\\ScratchPoly\\lib\\site-packages\\matplotlib\\tight_bbox.py:71: RuntimeWarning: divide by zero encountered in double_scalars\n",
      "  fig.patch.set_bounds(x0 / w1, y0 / h1,\n",
      "C:\\Users\\mcamp\\Anaconda3\\envs\\ScratchPoly\\lib\\site-packages\\matplotlib\\tight_bbox.py:72: RuntimeWarning: divide by zero encountered in double_scalars\n",
      "  fig.bbox.width / w1, fig.bbox.height / h1)\n",
      "C:\\Users\\mcamp\\Anaconda3\\envs\\ScratchPoly\\lib\\site-packages\\matplotlib\\patches.py:768: RuntimeWarning: invalid value encountered in double_scalars\n",
      "  x1 = self.convert_xunits(self._x0 + self._width)\n",
      "C:\\Users\\mcamp\\Anaconda3\\envs\\ScratchPoly\\lib\\site-packages\\matplotlib\\transforms.py:2012: RuntimeWarning: invalid value encountered in double_scalars\n",
      "  self._mtx[0, 2] += tx\n"
     ]
    },
    {
     "data": {
      "image/png": "[encoded data removed]",
      "text/plain": [
       "<Figure size 0x360 with 1 Axes>"
      ]
     },
     "metadata": {
      "needs_background": "light"
     },
     "output_type": "display_data"
    },
    {
     "ename": "NameError",
     "evalue": "name 'displaymap2' is not defined",
     "output_type": "error",
     "traceback": [
      "\u001b[1;31m---------------------------------------------------------------------------\u001b[0m",
      "\u001b[1;31mNameError\u001b[0m                                 Traceback (most recent call last)",
      "\u001b[1;32m<ipython-input-16-c6dc8d7e19b1>\u001b[0m in \u001b[0;36m<module>\u001b[1;34m\u001b[0m\n\u001b[0;32m    110\u001b[0m \u001b[1;31m################\u001b[0m\u001b[1;33m\u001b[0m\u001b[1;33m\u001b[0m\u001b[1;33m\u001b[0m\u001b[0m\n\u001b[0;32m    111\u001b[0m \u001b[1;33m\u001b[0m\u001b[0m\n\u001b[1;32m--> 112\u001b[1;33m \u001b[0mdisplaymap2\u001b[0m\u001b[1;33m\u001b[0m\u001b[1;33m\u001b[0m\u001b[0m\n\u001b[0m",
      "\u001b[1;31mNameError\u001b[0m: name 'displaymap2' is not defined"
     ]
    }
   ],
   "source": [
    "############################\n",
    "# FINAL VISUALIZATION PAGE #\n",
    "############################\n",
    "\n",
    "# Show land cover summary\n",
    "print('Total Acres: {}'.format(round(lu_total,2)))\n",
    "# for lulc, sqm in lulcs.items():\n",
    "#     print('{}: {}'.format(lulc, round(sqm,2)), end =\", \")\n",
    "\n",
    "# Show PWR summary, use the wetlands from the landcover call\n",
    "pwr_labels = {'str_bank': 'Stream Bank (mi)', 'head_pwr': 'Headwaters (ac)', 'ara_pwr': 'Active River Area (ac)'\n",
    "              , 'wet_pwr': 'Wetlands (ac)', 'tot_pwr': 'Total Priority Water Resources (PWR) (ac)'}\n",
    "wetlands_acres = 0.0\n",
    "for lulc, acre in lulcs.items():\n",
    "    if lulc == '90' or lulc == '95':\n",
    "        wetlands_acres += acre\n",
    "if wetlands_acres > 0.0:\n",
    "    wetlands_percent = wetlands_acres / lu_total * 100\n",
    "else:\n",
    "    wetlands_percent = 0.0\n",
    "\n",
    "for r, sqm in pwr.items():\n",
    "    if r == 'wet_pwr':\n",
    "        print('{}: {}'.format(pwr_labels[r], round(wetlands_acres,2)))\n",
    "    else:\n",
    "        print('{}: {}'.format(pwr_labels[r], round(sqm,2)))\n",
    "\n",
    "###############################\n",
    "# Pie charts for the PWR call #\n",
    "###############################\n",
    "\n",
    "labels_head = 'Headwaters', ''\n",
    "sizes_head = [pwr_percent['head_pwr'], 100 - pwr_percent['tot_pwr']]\n",
    "\n",
    "labels_ara = 'ARA', ''\n",
    "sizes_ara = [pwr_percent['ara_pwr'], 100 - pwr_percent['tot_pwr']]\n",
    "\n",
    "labels_wet = 'Wetlands', ''\n",
    "sizes_wet = [wetlands_percent, 100 - wetlands_percent]\n",
    "\n",
    "labels_pwr = 'Priority\\nWater Resources', ''\n",
    "sizes_pwr = [pwr_percent['tot_pwr'], 100 - pwr_percent['tot_pwr']]\n",
    "\n",
    "explode = (0.1, 0.0)  # only \"explode\" the 1st slice\n",
    "pie_colors = [\"lightblue\", \"lightgrey\"]\n",
    "\n",
    "fig1, (ax1, ax2, ax3, ax4) = plt.subplots(1,4)\n",
    "fig1.set_size_inches(15,15)\n",
    "\n",
    "ax1.pie(sizes_head, explode=explode, labels=labels_head, autopct='%1.1f%%',\n",
    "        shadow=True, startangle=90, colors = pie_colors, textprops={'fontsize': 12})\n",
    "\n",
    "ax2.pie(sizes_ara, explode=explode, labels=labels_ara, autopct='%1.1f%%',\n",
    "        shadow=True, startangle=90, colors = pie_colors, textprops={'fontsize': 12})\n",
    "\n",
    "ax3.pie(sizes_wet, explode=explode, labels=labels_wet, autopct='%1.1f%%',\n",
    "        shadow=True, startangle=90, colors = pie_colors, textprops={'fontsize': 12})\n",
    "\n",
    "ax4.pie(sizes_pwr, explode=explode, labels=labels_pwr, autopct='%1.1f%%',\n",
    "        shadow=True, startangle=90, colors = pie_colors, textprops={'fontsize': 12})\n",
    "\n",
    "plt.show()\n",
    "\n",
    "##########################\n",
    "# Create Land Cover Plot #\n",
    "##########################\n",
    "\n",
    "plot_length = int(len(lulcs))\n",
    "if plot_length > 10:\n",
    "    plot_length = 10\n",
    "\n",
    "fig2 = plt.figure()\n",
    "fig2.set_size_inches(plot_length,5)\n",
    "ax2 = fig2.add_axes([0,0,1,1])\n",
    "\n",
    "colormap = {'11': '#5475a8','21': '#e8d1d1','22': '#e29e8c','23': '#ff0000','24': '#b50000','31': '#d2cdc0',\n",
    "            '41': '#86c77e','42': '#39814e','43': '#d5e7b0','52': '#dcca8f','71': '#fde9aa','81': '#fbf65c',\n",
    "            '82': '#ca9146','90': '#c8e6f8','95': '#64b3d5'}\n",
    "\n",
    "crosswalk = {'11': 'Open Water',\n",
    "             '21': 'Developed Open Space',\n",
    "             '22': 'Developed Low Intensity',\n",
    "             '23': 'Developed Medium Intensity',\n",
    "             '24': 'Developed High Intensity',\n",
    "             '31': 'Barren Land',\n",
    "             '41': 'Deciduous Forest',\n",
    "             '42': 'Evergreen Forest',\n",
    "             '43': 'Mixed Forest',\n",
    "             '52': 'Shrub/Scrub',\n",
    "             '71': 'Grassland Herbaceous',\n",
    "             '81': 'Pasture Hay',\n",
    "             '82': 'Cultivated Crops',\n",
    "             '90': 'Woody Wetlands',\n",
    "             '95': 'Emergent Herbaceous Wetlands'}\n",
    "\n",
    "colors = {x: colormap[x] for x in lulcs}\n",
    "x_labels = {x: crosswalk[x] for x in lulcs}\n",
    "\n",
    "ax2.bar(list(lulcs.keys()), list(lulcs.values()), align='center', color=colors.values())\n",
    "#ax.set_xticklabels(x_labels.values())\n",
    "ax2.set_ylabel('Area (acres)')\n",
    "ax2.set_title('Watershed Land Cover Distribution (NLCD 2011)')\n",
    "handles = [plt.Rectangle((0,0),len(lulcs),len(lulcs), color=colors[label]) for label in x_labels]\n",
    "ax2.legend(handles, x_labels.values(), bbox_to_anchor=(1.02, 1), loc='upper left')\n",
    "\n",
    "plt.show()\n",
    "\n",
    "################\n",
    "# Show the map #\n",
    "################\n",
    "\n",
    "displaymap2"
   ]
  },
  {
   "cell_type": "code",
   "execution_count": null,
   "id": "b10606b7",
   "metadata": {},
   "outputs": [],
   "source": []
  },
  {
   "cell_type": "code",
   "execution_count": null,
   "id": "f02f2639",
   "metadata": {},
   "outputs": [],
   "source": []
  }
 ],
 "metadata": {
  "kernelspec": {
   "display_name": "ScratchPoly",
   "language": "python",
   "name": "scratchpoly"
  },
  "language_info": {
   "codemirror_mode": {
    "name": "ipython",
    "version": 3
   },
   "file_extension": ".py",
   "mimetype": "text/x-python",
   "name": "python",
   "nbconvert_exporter": "python",
   "pygments_lexer": "ipython3",
   "version": "3.9.2"
  }
 },
 "nbformat": 4,
 "nbformat_minor": 5
}
